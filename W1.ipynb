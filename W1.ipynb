{
 "cells": [
  {
   "cell_type": "code",
   "execution_count": 1,
   "id": "a78b2a35",
   "metadata": {},
   "outputs": [],
   "source": [
    "import pandas as pd\n",
    "import numpy as np"
   ]
  },
  {
   "cell_type": "code",
   "execution_count": 2,
   "id": "aa985338",
   "metadata": {},
   "outputs": [],
   "source": [
    "cars = pd.read_csv(\"Cars.csv\")"
   ]
  },
  {
   "cell_type": "code",
   "execution_count": 4,
   "id": "ef00c7ac",
   "metadata": {},
   "outputs": [
    {
     "data": {
      "text/plain": [
       "(398, 9)"
      ]
     },
     "execution_count": 4,
     "metadata": {},
     "output_type": "execute_result"
    }
   ],
   "source": [
    "cars.shape"
   ]
  },
  {
   "cell_type": "code",
   "execution_count": 5,
   "id": "7320d713",
   "metadata": {},
   "outputs": [
    {
     "data": {
      "text/plain": [
       "Index(['mpg', 'cylinders', 'displacement', 'horsepower', 'weight',\n",
       "       'acceleration', 'model_year', 'origin', 'name'],\n",
       "      dtype='object')"
      ]
     },
     "execution_count": 5,
     "metadata": {},
     "output_type": "execute_result"
    }
   ],
   "source": [
    "cars.columns"
   ]
  },
  {
   "cell_type": "code",
   "execution_count": 57,
   "id": "876c598c",
   "metadata": {},
   "outputs": [
    {
     "data": {
      "text/plain": [
       "mpg             float64\n",
       "cylinders         int64\n",
       "displacement    float64\n",
       "horsepower      float64\n",
       "weight            int64\n",
       "acceleration    float64\n",
       "model_year        int64\n",
       "origin           object\n",
       "name             object\n",
       "new_column      float64\n",
       "dtype: object"
      ]
     },
     "execution_count": 57,
     "metadata": {},
     "output_type": "execute_result"
    }
   ],
   "source": [
    "cars.dtypes"
   ]
  },
  {
   "cell_type": "code",
   "execution_count": 83,
   "id": "62b03bd8",
   "metadata": {},
   "outputs": [],
   "source": [
    "cars.index = cars[\"name\"]"
   ]
  },
  {
   "cell_type": "code",
   "execution_count": 10,
   "id": "574bc31a",
   "metadata": {},
   "outputs": [
    {
     "data": {
      "text/plain": [
       "array([18. , 15. , 16. , 17. , 14. , 24. , 22. , 21. , 27. , 26. , 25. ,\n",
       "       10. , 11. ,  9. , 28. , 19. , 12. , 13. , 23. , 30. , 31. , 35. ,\n",
       "       20. , 29. , 32. , 33. , 17.5, 15.5, 14.5, 22.5, 24.5, 18.5, 29.5,\n",
       "       26.5, 16.5, 31.5, 36. , 25.5, 33.5, 20.5, 30.5, 21.5, 43.1, 36.1,\n",
       "       32.8, 39.4, 19.9, 19.4, 20.2, 19.2, 25.1, 20.6, 20.8, 18.6, 18.1,\n",
       "       17.7, 27.5, 27.2, 30.9, 21.1, 23.2, 23.8, 23.9, 20.3, 21.6, 16.2,\n",
       "       19.8, 22.3, 17.6, 18.2, 16.9, 31.9, 34.1, 35.7, 27.4, 25.4, 34.2,\n",
       "       34.5, 31.8, 37.3, 28.4, 28.8, 26.8, 41.5, 38.1, 32.1, 37.2, 26.4,\n",
       "       24.3, 19.1, 34.3, 29.8, 31.3, 37. , 32.2, 46.6, 27.9, 40.8, 44.3,\n",
       "       43.4, 36.4, 44.6, 40.9, 33.8, 32.7, 23.7, 23.6, 32.4, 26.6, 25.8,\n",
       "       23.5, 39.1, 39. , 35.1, 32.3, 37.7, 34.7, 34.4, 29.9, 33.7, 32.9,\n",
       "       31.6, 28.1, 30.7, 24.2, 22.4, 34. , 38. , 44. ])"
      ]
     },
     "execution_count": 10,
     "metadata": {},
     "output_type": "execute_result"
    }
   ],
   "source": [
    "cars[\"mpg\"].unique()"
   ]
  },
  {
   "cell_type": "code",
   "execution_count": 11,
   "id": "ce6de549",
   "metadata": {},
   "outputs": [
    {
     "data": {
      "text/plain": [
       "name\n",
       "chevrolet chevelle malibu    0.037100\n",
       "buick skylark 320            0.044679\n",
       "plymouth satellite           0.043655\n",
       "amc rebel sst                0.043694\n",
       "ford torino                  0.040591\n",
       "                               ...   \n",
       "ford mustang gl              0.030824\n",
       "vw pickup                    0.024413\n",
       "dodge rampage                0.036601\n",
       "ford ranger                  0.030095\n",
       "chevy s-10                   0.030147\n",
       "Name: new_column, Length: 398, dtype: float64"
      ]
     },
     "execution_count": 11,
     "metadata": {},
     "output_type": "execute_result"
    }
   ],
   "source": [
    "cars[\"new_column\"] = cars['horsepower']/cars['weight']\n",
    "cars[\"new_column\"]"
   ]
  },
  {
   "cell_type": "code",
   "execution_count": null,
   "id": "b23bc5e5",
   "metadata": {},
   "outputs": [],
   "source": [
    "cars.sort_values(['horsepower'], ascending = False)\n",
    "#pontiac grand prix"
   ]
  },
  {
   "cell_type": "code",
   "execution_count": 44,
   "id": "c764f62c",
   "metadata": {},
   "outputs": [],
   "source": [
    "cars_new = cars.loc[cars['mpg'] >= 35].copy()"
   ]
  },
  {
   "cell_type": "code",
   "execution_count": null,
   "id": "318e9597",
   "metadata": {},
   "outputs": [
    {
     "data": {
      "text/plain": [
       "(36, 10)"
      ]
     },
     "execution_count": 45,
     "metadata": {},
     "output_type": "execute_result"
    }
   ],
   "source": [
    "cars_new.shape\n",
    "#(36, 10)"
   ]
  },
  {
   "cell_type": "code",
   "execution_count": 48,
   "id": "6da44e53",
   "metadata": {},
   "outputs": [],
   "source": [
    "cars1 = cars.query('horsepower > 35 and weight< 3000').copy()"
   ]
  },
  {
   "cell_type": "code",
   "execution_count": null,
   "id": "1f8230ad",
   "metadata": {},
   "outputs": [
    {
     "data": {
      "text/plain": [
       "name\n",
       "toyota corona mark ii     japan\n",
       "plymouth duster             usa\n",
       "amc hornet                  usa\n",
       "ford maverick               usa\n",
       "datsun pl510              japan\n",
       "                          ...  \n",
       "ford mustang gl             usa\n",
       "vw pickup                europe\n",
       "dodge rampage               usa\n",
       "ford ranger                 usa\n",
       "chevy s-10                  usa\n",
       "Name: origin, Length: 225, dtype: object"
      ]
     },
     "execution_count": 52,
     "metadata": {},
     "output_type": "execute_result"
    }
   ],
   "source": [
    "cars1.origin\n",
    "#usa"
   ]
  },
  {
   "cell_type": "code",
   "execution_count": 85,
   "id": "76c32509",
   "metadata": {},
   "outputs": [],
   "source": [
    "cars_japan = cars[cars['origin'] == \"japan\"]"
   ]
  },
  {
   "cell_type": "code",
   "execution_count": null,
   "id": "c5f97b5e",
   "metadata": {},
   "outputs": [
    {
     "data": {
      "text/plain": [
       "np.float64(15.568090452261307)"
      ]
     },
     "execution_count": 90,
     "metadata": {},
     "output_type": "execute_result"
    }
   ],
   "source": [
    "average_acceleration = cars['acceleration'].mean()\n",
    "average_acceleration\n",
    "#15.568090452261307"
   ]
  },
  {
   "cell_type": "code",
   "execution_count": null,
   "id": "b74b1180",
   "metadata": {},
   "outputs": [
    {
     "data": {
      "text/plain": [
       "mpg                         46.6\n",
       "cylinders                      8\n",
       "displacement               455.0\n",
       "horsepower                 230.0\n",
       "weight                      5140\n",
       "acceleration                24.8\n",
       "model_year                    82\n",
       "origin                     japan\n",
       "name            vw rabbit custom\n",
       "new_column               0.07291\n",
       "dtype: object"
      ]
     },
     "execution_count": 92,
     "metadata": {},
     "output_type": "execute_result"
    }
   ],
   "source": [
    "high_mpg = cars.sort_values(['mpg']).max()\n",
    "high_mpg\n",
    "#82"
   ]
  },
  {
   "cell_type": "code",
   "execution_count": null,
   "id": "e315bf06",
   "metadata": {},
   "outputs": [],
   "source": []
  }
 ],
 "metadata": {
  "kernelspec": {
   "display_name": "myenv",
   "language": "python",
   "name": "python3"
  },
  "language_info": {
   "codemirror_mode": {
    "name": "ipython",
    "version": 3
   },
   "file_extension": ".py",
   "mimetype": "text/x-python",
   "name": "python",
   "nbconvert_exporter": "python",
   "pygments_lexer": "ipython3",
   "version": "3.13.2"
  }
 },
 "nbformat": 4,
 "nbformat_minor": 5
}
